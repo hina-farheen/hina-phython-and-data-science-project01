{
  "nbformat": 4,
  "nbformat_minor": 0,
  "metadata": {
    "colab": {
      "name": "Hina_Farheen.ipynb",
      "provenance": []
    },
    "kernelspec": {
      "name": "python3",
      "display_name": "Python 3"
    },
    "language_info": {
      "name": "python"
    }
  },
  "cells": [
    {
      "cell_type": "code",
      "metadata": {
        "id": "TFt1Bwms3pAN"
      },
      "source": [
        "## IMPORTING DATASET\n",
        "from keras.datasets import mnist\n",
        "data = mnist.load_data()\n"
      ],
      "execution_count": 50,
      "outputs": []
    },
    {
      "cell_type": "code",
      "metadata": {
        "colab": {
          "base_uri": "https://localhost:8080/"
        },
        "id": "PTZ5xOp98keI",
        "outputId": "ce7c8379-6c7b-4da4-fe1f-643ff1fb73b9"
      },
      "source": [
        "type(data)"
      ],
      "execution_count": 51,
      "outputs": [
        {
          "output_type": "execute_result",
          "data": {
            "text/plain": [
              "tuple"
            ]
          },
          "metadata": {
            "tags": []
          },
          "execution_count": 51
        }
      ]
    },
    {
      "cell_type": "markdown",
      "metadata": {
        "id": "fvjAVgY77pMh"
      },
      "source": [
        "Define Training and testing data"
      ]
    },
    {
      "cell_type": "code",
      "metadata": {
        "id": "KzVmr5-B7ZoS"
      },
      "source": [
        "((X_train,y_train),(X_test,y_test)) = data"
      ],
      "execution_count": 52,
      "outputs": []
    },
    {
      "cell_type": "code",
      "metadata": {
        "colab": {
          "base_uri": "https://localhost:8080/"
        },
        "id": "pNdZXKyuB-sl",
        "outputId": "3c8b707e-ab44-43bc-a2f2-5bd554c23588"
      },
      "source": [
        "X_train.shape"
      ],
      "execution_count": 53,
      "outputs": [
        {
          "output_type": "execute_result",
          "data": {
            "text/plain": [
              "(60000, 28, 28)"
            ]
          },
          "metadata": {
            "tags": []
          },
          "execution_count": 53
        }
      ]
    },
    {
      "cell_type": "code",
      "metadata": {
        "colab": {
          "base_uri": "https://localhost:8080/"
        },
        "id": "zYNTxdWD9nx7",
        "outputId": "977e11c7-10e3-4c71-b180-d943a797c07d"
      },
      "source": [
        "X_train[0].shape"
      ],
      "execution_count": 54,
      "outputs": [
        {
          "output_type": "execute_result",
          "data": {
            "text/plain": [
              "(28, 28)"
            ]
          },
          "metadata": {
            "tags": []
          },
          "execution_count": 54
        }
      ]
    },
    {
      "cell_type": "code",
      "metadata": {
        "id": "WrRgpxY9CgSK"
      },
      "source": [
        "# Reshape the Training data\n",
        "X_train = X_train.reshape((X_train.shape[0],28*28)).astype('float32')\n",
        "X_test = X_test.reshape((X_test.shape[0],28*28)).astype('float32')\n"
      ],
      "execution_count": 55,
      "outputs": []
    },
    {
      "cell_type": "code",
      "metadata": {
        "id": "zM5WlCFQ_2RG"
      },
      "source": [
        "#normalizing values from 0-255 to 0-1\n",
        "X_train = X_train / 255\n",
        "X_test = X_test / 255"
      ],
      "execution_count": 56,
      "outputs": []
    },
    {
      "cell_type": "code",
      "metadata": {
        "colab": {
          "base_uri": "https://localhost:8080/"
        },
        "id": "NCkGUP8CBAhb",
        "outputId": "3c6f3f61-53b3-49f5-92cd-f4aa39862cd1"
      },
      "source": [
        "from keras.utils import np_utils\n",
        "print(y_test.shape)\n",
        "y_train = np_utils.to_categorical(y_train)\n",
        "y_test = np_utils.to_categorical(y_test)\n",
        "num_classes = y_test.shape[1]\n",
        "print(y_test.shape) \n",
        " "
      ],
      "execution_count": 57,
      "outputs": [
        {
          "output_type": "stream",
          "text": [
            "(10000,)\n",
            "(10000, 10)\n"
          ],
          "name": "stdout"
        }
      ]
    },
    {
      "cell_type": "code",
      "metadata": {
        "id": "2XGkLMAYFsEL"
      },
      "source": [
        "from keras.models import Sequential\n",
        "from keras.layers import Dense "
      ],
      "execution_count": 58,
      "outputs": []
    },
    {
      "cell_type": "code",
      "metadata": {
        "id": "8Y9VZ4fIHZac"
      },
      "source": [
        "#Define Model\n",
        "model = Sequential()\n",
        "  \n",
        "#Add First Hidden Layer\n",
        "model.add(Dense(32,input_dim= 28*28, activation='relu'))\n",
        "#Add Second Hidden Layer\n",
        "model.add(Dense(64, activation='softmax'))\n",
        "# Add output layer having 10 neurons (since there are 10 classes/categories in)\n",
        "model.add(Dense(10, activation='softmax'))"
      ],
      "execution_count": 59,
      "outputs": []
    },
    {
      "cell_type": "code",
      "metadata": {
        "id": "b_IguNAvReWy"
      },
      "source": [
        "#Compile Model\n",
        "model.compile(loss='categorical_crossentropy',optimizer='adam',metrics=['accuracy'])"
      ],
      "execution_count": 60,
      "outputs": []
    },
    {
      "cell_type": "code",
      "metadata": {
        "colab": {
          "base_uri": "https://localhost:8080/"
        },
        "id": "GXSxCVi2R8qL",
        "outputId": "097b9f51-28cd-49dd-82ce-e97068fbc078"
      },
      "source": [
        "#print Model summary\n",
        "model.summary()"
      ],
      "execution_count": 61,
      "outputs": [
        {
          "output_type": "stream",
          "text": [
            "Model: \"sequential_3\"\n",
            "_________________________________________________________________\n",
            "Layer (type)                 Output Shape              Param #   \n",
            "=================================================================\n",
            "dense_9 (Dense)              (None, 32)                25120     \n",
            "_________________________________________________________________\n",
            "dense_10 (Dense)             (None, 64)                2112      \n",
            "_________________________________________________________________\n",
            "dense_11 (Dense)             (None, 10)                650       \n",
            "=================================================================\n",
            "Total params: 27,882\n",
            "Trainable params: 27,882\n",
            "Non-trainable params: 0\n",
            "_________________________________________________________________\n"
          ],
          "name": "stdout"
        }
      ]
    },
    {
      "cell_type": "code",
      "metadata": {
        "colab": {
          "base_uri": "https://localhost:8080/"
        },
        "id": "rjvWUQraSQQB",
        "outputId": "4ed3dcc4-dc2f-4314-90a9-5885341f625b"
      },
      "source": [
        " #Train Model\n",
        " model.fit(X_train, y_train, epochs=10, batch_size=100)"
      ],
      "execution_count": 62,
      "outputs": [
        {
          "output_type": "stream",
          "text": [
            "Epoch 1/10\n",
            "600/600 [==============================] - 2s 2ms/step - loss: 2.0181 - accuracy: 0.4156\n",
            "Epoch 2/10\n",
            "600/600 [==============================] - 1s 2ms/step - loss: 1.4041 - accuracy: 0.5002\n",
            "Epoch 3/10\n",
            "600/600 [==============================] - 1s 2ms/step - loss: 1.1553 - accuracy: 0.5013\n",
            "Epoch 4/10\n",
            "600/600 [==============================] - 1s 2ms/step - loss: 1.0288 - accuracy: 0.5067\n",
            "Epoch 5/10\n",
            "600/600 [==============================] - 1s 2ms/step - loss: 0.9603 - accuracy: 0.5099\n",
            "Epoch 6/10\n",
            "600/600 [==============================] - 1s 2ms/step - loss: 0.9150 - accuracy: 0.5102\n",
            "Epoch 7/10\n",
            "600/600 [==============================] - 1s 2ms/step - loss: 0.8863 - accuracy: 0.5173\n",
            "Epoch 8/10\n",
            "600/600 [==============================] - 1s 2ms/step - loss: 0.8633 - accuracy: 0.5229\n",
            "Epoch 9/10\n",
            "600/600 [==============================] - 1s 2ms/step - loss: 0.8464 - accuracy: 0.5300\n",
            "Epoch 10/10\n",
            "600/600 [==============================] - 1s 2ms/step - loss: 0.8241 - accuracy: 0.5556\n"
          ],
          "name": "stdout"
        },
        {
          "output_type": "execute_result",
          "data": {
            "text/plain": [
              "<tensorflow.python.keras.callbacks.History at 0x7fb929054a10>"
            ]
          },
          "metadata": {
            "tags": []
          },
          "execution_count": 62
        }
      ]
    },
    {
      "cell_type": "code",
      "metadata": {
        "colab": {
          "base_uri": "https://localhost:8080/"
        },
        "id": "5Zrge3otSvU3",
        "outputId": "a7d62e33-8029-42f2-b346-7f6edb6390d7"
      },
      "source": [
        "scores = model.evaluate(X_test , y_test)\n",
        "print(scores)## returns loss and accuracy"
      ],
      "execution_count": 63,
      "outputs": [
        {
          "output_type": "stream",
          "text": [
            "313/313 [==============================] - 0s 1ms/step - loss: 0.7865 - accuracy: 0.6116\n",
            "[0.786485493183136, 0.6115999817848206]\n"
          ],
          "name": "stdout"
        }
      ]
    },
    {
      "cell_type": "code",
      "metadata": {
        "id": "bX-Wl2TPUVd5"
      },
      "source": [
        "\n"
      ],
      "execution_count": null,
      "outputs": []
    }
  ]
}